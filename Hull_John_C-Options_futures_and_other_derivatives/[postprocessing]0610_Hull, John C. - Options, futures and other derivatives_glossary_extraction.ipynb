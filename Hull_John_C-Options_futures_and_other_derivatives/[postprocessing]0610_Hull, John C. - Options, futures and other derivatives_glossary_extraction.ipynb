{
 "metadata": {
  "language_info": {
   "codemirror_mode": {
    "name": "ipython",
    "version": 3
   },
   "file_extension": ".py",
   "mimetype": "text/x-python",
   "name": "python",
   "nbconvert_exporter": "python",
   "pygments_lexer": "ipython3",
   "version": "3.8.3"
  },
  "orig_nbformat": 2,
  "kernelspec": {
   "name": "python3",
   "display_name": "Python 3.8.3 64-bit ('base': conda)"
  },
  "interpreter": {
   "hash": "5af03e6f6884cdcbf495aa98cbd8d63d5d0ed05506dbd026ba0a4981213ae30b"
  }
 },
 "nbformat": 4,
 "nbformat_minor": 2,
 "cells": [
  {
   "cell_type": "code",
   "execution_count": 2,
   "metadata": {},
   "outputs": [],
   "source": [
    "import pandas as pd"
   ]
  },
  {
   "cell_type": "code",
   "execution_count": 3,
   "metadata": {},
   "outputs": [],
   "source": [
    "df = pd.read_csv('glossary_extraction_Hull, John C. - Options, futures and other derivatives.csv')"
   ]
  },
  {
   "cell_type": "code",
   "execution_count": 4,
   "metadata": {},
   "outputs": [
    {
     "output_type": "execute_result",
     "data": {
      "text/plain": [
       "   ID                        original_glossary_extracted           key_phrase  \\\n",
       "0   0                    ABS See Asset-Backed Security.                   ABS   \n",
       "1   1  ABS CDO Instrument where tranches are created ...              ABS CDO   \n",
       "2   2  Accrual Swap An interest rate swap where inter...         Accrual Swap   \n",
       "3   3  Accrued Interest The interest earned on a bond...     Accrued Interest   \n",
       "4   4  Adaptive Mesh Model A model developed by Figle...  Adaptive Mesh Model   \n",
       "\n",
       "  extracted_acronym_1  extracted_acronym_2  \\\n",
       "0                 NaN                  NaN   \n",
       "1                 NaN                  NaN   \n",
       "2                 NaN                  NaN   \n",
       "3                 NaN                  NaN   \n",
       "4                 NaN                  NaN   \n",
       "\n",
       "                           definition_or_explanation  \\\n",
       "0                        See Asset-Backed Security.    \n",
       "1  Instrument where tranches are created from the...   \n",
       "2  An interest rate swap where interest on one si...   \n",
       "3  The interest earned on a bond since the last c...   \n",
       "4  A model developed by Figlewski and Gao that gr...   \n",
       "\n",
       "                                         source_book  \n",
       "0  Hull, John C. - Options, futures and other der...  \n",
       "1  Hull, John C. - Options, futures and other der...  \n",
       "2  Hull, John C. - Options, futures and other der...  \n",
       "3  Hull, John C. - Options, futures and other der...  \n",
       "4  Hull, John C. - Options, futures and other der...  "
      ],
      "text/html": "<div>\n<style scoped>\n    .dataframe tbody tr th:only-of-type {\n        vertical-align: middle;\n    }\n\n    .dataframe tbody tr th {\n        vertical-align: top;\n    }\n\n    .dataframe thead th {\n        text-align: right;\n    }\n</style>\n<table border=\"1\" class=\"dataframe\">\n  <thead>\n    <tr style=\"text-align: right;\">\n      <th></th>\n      <th>ID</th>\n      <th>original_glossary_extracted</th>\n      <th>key_phrase</th>\n      <th>extracted_acronym_1</th>\n      <th>extracted_acronym_2</th>\n      <th>definition_or_explanation</th>\n      <th>source_book</th>\n    </tr>\n  </thead>\n  <tbody>\n    <tr>\n      <th>0</th>\n      <td>0</td>\n      <td>ABS See Asset-Backed Security.</td>\n      <td>ABS</td>\n      <td>NaN</td>\n      <td>NaN</td>\n      <td>See Asset-Backed Security.</td>\n      <td>Hull, John C. - Options, futures and other der...</td>\n    </tr>\n    <tr>\n      <th>1</th>\n      <td>1</td>\n      <td>ABS CDO Instrument where tranches are created ...</td>\n      <td>ABS CDO</td>\n      <td>NaN</td>\n      <td>NaN</td>\n      <td>Instrument where tranches are created from the...</td>\n      <td>Hull, John C. - Options, futures and other der...</td>\n    </tr>\n    <tr>\n      <th>2</th>\n      <td>2</td>\n      <td>Accrual Swap An interest rate swap where inter...</td>\n      <td>Accrual Swap</td>\n      <td>NaN</td>\n      <td>NaN</td>\n      <td>An interest rate swap where interest on one si...</td>\n      <td>Hull, John C. - Options, futures and other der...</td>\n    </tr>\n    <tr>\n      <th>3</th>\n      <td>3</td>\n      <td>Accrued Interest The interest earned on a bond...</td>\n      <td>Accrued Interest</td>\n      <td>NaN</td>\n      <td>NaN</td>\n      <td>The interest earned on a bond since the last c...</td>\n      <td>Hull, John C. - Options, futures and other der...</td>\n    </tr>\n    <tr>\n      <th>4</th>\n      <td>4</td>\n      <td>Adaptive Mesh Model A model developed by Figle...</td>\n      <td>Adaptive Mesh Model</td>\n      <td>NaN</td>\n      <td>NaN</td>\n      <td>A model developed by Figlewski and Gao that gr...</td>\n      <td>Hull, John C. - Options, futures and other der...</td>\n    </tr>\n  </tbody>\n</table>\n</div>"
     },
     "metadata": {},
     "execution_count": 4
    }
   ],
   "source": [
    "df.head()"
   ]
  },
  {
   "cell_type": "code",
   "execution_count": 7,
   "metadata": {},
   "outputs": [],
   "source": [
    "def clean_extracted_key_phrase(phrase):\n",
    "    try: \n",
    "        phrase = phrase.replace('-', ' ')\n",
    "        phrase = phrase.replace('/', ' ')\n",
    "        return phrase\n",
    "\n",
    "    except:\n",
    "        return phrase"
   ]
  },
  {
   "cell_type": "code",
   "execution_count": 8,
   "metadata": {},
   "outputs": [],
   "source": [
    "df['key_phrase'] = df['key_phrase'].apply(clean_extracted_key_phrase)"
   ]
  },
  {
   "cell_type": "code",
   "execution_count": 9,
   "metadata": {},
   "outputs": [],
   "source": [
    "df.to_csv('glossary_extraction_Hull, John C. - Options, futures and other derivatives_cleaned.csv')"
   ]
  },
  {
   "cell_type": "code",
   "execution_count": null,
   "metadata": {},
   "outputs": [],
   "source": []
  }
 ]
}