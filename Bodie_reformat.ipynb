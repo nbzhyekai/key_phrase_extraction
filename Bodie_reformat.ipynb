{
 "metadata": {
  "language_info": {
   "codemirror_mode": {
    "name": "ipython",
    "version": 3
   },
   "file_extension": ".py",
   "mimetype": "text/x-python",
   "name": "python",
   "nbconvert_exporter": "python",
   "pygments_lexer": "ipython3",
   "version": "3.8.3"
  },
  "orig_nbformat": 2,
  "kernelspec": {
   "name": "python383jvsc74a57bd05af03e6f6884cdcbf495aa98cbd8d63d5d0ed05506dbd026ba0a4981213ae30b",
   "display_name": "Python 3.8.3 64-bit ('base': conda)"
  }
 },
 "nbformat": 4,
 "nbformat_minor": 2,
 "cells": [
  {
   "cell_type": "code",
   "execution_count": 1,
   "metadata": {},
   "outputs": [],
   "source": [
    "import pandas as pd"
   ]
  },
  {
   "cell_type": "code",
   "execution_count": 2,
   "metadata": {},
   "outputs": [],
   "source": [
    "extracted_key_phrases = pd.read_csv('Bodie_and_Woodridge_extracted_keywords/subject_index_extraction_2013_Bodie.Kane.Marcus_Investments.csv')"
   ]
  },
  {
   "cell_type": "code",
   "execution_count": 3,
   "metadata": {},
   "outputs": [
    {
     "output_type": "execute_result",
     "data": {
      "text/plain": [
       "   ID                phrase                            textbook  \\\n",
       "0   0       Abnormal return  2013_Bodie.Kane.Marcus_Investments   \n",
       "1   1   Accounting earnings  2013_Bodie.Kane.Marcus_Investments   \n",
       "2   2  Accounting practices  2013_Bodie.Kane.Marcus_Investments   \n",
       "3   3      Accrued interest  2013_Bodie.Kane.Marcus_Investments   \n",
       "4   4       Acid test ratio  2013_Bodie.Kane.Marcus_Investments   \n",
       "\n",
       "   definition_or_explanations  \n",
       "0                         NaN  \n",
       "1                         NaN  \n",
       "2                         NaN  \n",
       "3                         NaN  \n",
       "4                         NaN  "
      ],
      "text/html": "<div>\n<style scoped>\n    .dataframe tbody tr th:only-of-type {\n        vertical-align: middle;\n    }\n\n    .dataframe tbody tr th {\n        vertical-align: top;\n    }\n\n    .dataframe thead th {\n        text-align: right;\n    }\n</style>\n<table border=\"1\" class=\"dataframe\">\n  <thead>\n    <tr style=\"text-align: right;\">\n      <th></th>\n      <th>ID</th>\n      <th>phrase</th>\n      <th>textbook</th>\n      <th>definition_or_explanations</th>\n    </tr>\n  </thead>\n  <tbody>\n    <tr>\n      <th>0</th>\n      <td>0</td>\n      <td>Abnormal return</td>\n      <td>2013_Bodie.Kane.Marcus_Investments</td>\n      <td>NaN</td>\n    </tr>\n    <tr>\n      <th>1</th>\n      <td>1</td>\n      <td>Accounting earnings</td>\n      <td>2013_Bodie.Kane.Marcus_Investments</td>\n      <td>NaN</td>\n    </tr>\n    <tr>\n      <th>2</th>\n      <td>2</td>\n      <td>Accounting practices</td>\n      <td>2013_Bodie.Kane.Marcus_Investments</td>\n      <td>NaN</td>\n    </tr>\n    <tr>\n      <th>3</th>\n      <td>3</td>\n      <td>Accrued interest</td>\n      <td>2013_Bodie.Kane.Marcus_Investments</td>\n      <td>NaN</td>\n    </tr>\n    <tr>\n      <th>4</th>\n      <td>4</td>\n      <td>Acid test ratio</td>\n      <td>2013_Bodie.Kane.Marcus_Investments</td>\n      <td>NaN</td>\n    </tr>\n  </tbody>\n</table>\n</div>"
     },
     "metadata": {},
     "execution_count": 3
    }
   ],
   "source": [
    "extracted_key_phrases.head()"
   ]
  },
  {
   "cell_type": "code",
   "execution_count": 4,
   "metadata": {},
   "outputs": [],
   "source": [
    "key_phrases = extracted_key_phrases['phrase'].values "
   ]
  },
  {
   "cell_type": "code",
   "execution_count": 5,
   "metadata": {},
   "outputs": [],
   "source": [
    "text = 'NASDAQ Stock Market (NASDAQ)'"
   ]
  },
  {
   "cell_type": "code",
   "execution_count": 6,
   "metadata": {},
   "outputs": [],
   "source": [
    "text = 'Morningstar’s risk-adjusted return (MRAR)'"
   ]
  },
  {
   "cell_type": "code",
   "execution_count": 7,
   "metadata": {},
   "outputs": [],
   "source": [
    "text = 'ADRs (American Depository Receipts)'"
   ]
  },
  {
   "cell_type": "code",
   "execution_count": 8,
   "metadata": {},
   "outputs": [
    {
     "output_type": "execute_result",
     "data": {
      "text/plain": [
       "<re.Match object; span=(5, 35), match='(American Depository Receipts)'>"
      ]
     },
     "metadata": {},
     "execution_count": 8
    }
   ],
   "source": [
    "import re\n",
    "re.search('\\(.+\\)', text)"
   ]
  },
  {
   "cell_type": "code",
   "execution_count": 9,
   "metadata": {},
   "outputs": [],
   "source": [
    "text_length = len(text)\n",
    "content_in_bracket_length = len(re.search('\\(.+\\)', text).group(0)) - 2"
   ]
  },
  {
   "cell_type": "code",
   "execution_count": 10,
   "metadata": {},
   "outputs": [
    {
     "output_type": "execute_result",
     "data": {
      "text/plain": [
       "(5, 35)"
      ]
     },
     "metadata": {},
     "execution_count": 10
    }
   ],
   "source": [
    "re.search('\\(.+\\)', text).span()"
   ]
  },
  {
   "cell_type": "code",
   "execution_count": 11,
   "metadata": {},
   "outputs": [],
   "source": [
    "start, end = re.search('\\(.+\\)', text).span()\n",
    "if content_in_bracket_length > text_length / 2:\n",
    "    \n",
    "    full_expression = text[start+1: end-1]\n",
    "    abbreviated_expression = text[: start-1]\n",
    "else:\n",
    "    full_expression = text[: start-1]\n",
    "    abbreviated_expression = text[start+1: end-1]"
   ]
  },
  {
   "cell_type": "code",
   "execution_count": 12,
   "metadata": {},
   "outputs": [
    {
     "output_type": "execute_result",
     "data": {
      "text/plain": [
       "('American Depository Receipts', 'ADRs')"
      ]
     },
     "metadata": {},
     "execution_count": 12
    }
   ],
   "source": [
    "full_expression, abbreviated_expression"
   ]
  },
  {
   "cell_type": "code",
   "execution_count": 13,
   "metadata": {},
   "outputs": [],
   "source": [
    "def find_full_expression_and_abbreviation(text):\n",
    "    text_length = len(text)\n",
    "    match = re.search('\\(.+\\)', text) # search of bracket\n",
    "    match_1 = re.search('[A-Z]{2,8}', text) # search for Capitalization\n",
    "    match_2 = re.search('[A-Z]/[A-Z]', text) # search for Capitalization\n",
    "    if match and (match_1 or match_2):\n",
    "        content_in_bracket_length = len(match.group(0)) - 2\n",
    "    else:\n",
    "        if re.search('\\(.+', text):\n",
    "            pos = re.search('\\(.+', text).span()[0]\n",
    "            return [text[:pos-1]]\n",
    "\n",
    "        else:\n",
    "            return [text]\n",
    "\n",
    "    start, end = re.search('\\(.+\\)', text).span()\n",
    "    if content_in_bracket_length > text_length / 2:\n",
    "        \n",
    "        full_expression = text[start+1: end-1]\n",
    "        abbreviated_expression = text[: start-1]\n",
    "    else:\n",
    "        full_expression = text[: start-1]\n",
    "        abbreviated_expression = text[start+1: end-1]\n",
    "\n",
    "    return [full_expression, abbreviated_expression]"
   ]
  },
  {
   "cell_type": "code",
   "execution_count": 14,
   "metadata": {},
   "outputs": [
    {
     "output_type": "execute_result",
     "data": {
      "text/plain": [
       "['Morningstar’s risk-adjusted return', 'MRAR']"
      ]
     },
     "metadata": {},
     "execution_count": 14
    }
   ],
   "source": [
    "find_full_expression_and_abbreviation(\"Morningstar’s risk-adjusted return (MRAR)\")"
   ]
  },
  {
   "cell_type": "code",
   "execution_count": 15,
   "metadata": {},
   "outputs": [
    {
     "output_type": "execute_result",
     "data": {
      "text/plain": [
       "['American Depository Receipts', 'ADRs']"
      ]
     },
     "metadata": {},
     "execution_count": 15
    }
   ],
   "source": [
    "find_full_expression_and_abbreviation('ADRs (American Depository Receipts)')\n"
   ]
  },
  {
   "cell_type": "code",
   "execution_count": 16,
   "metadata": {},
   "outputs": [],
   "source": [
    "full = []\n",
    "abbreviated = []\n",
    "\n",
    "for phrase in key_phrases:\n",
    "     res = find_full_expression_and_abbreviation(phrase)\n",
    "     if len(res) == 1:\n",
    "         full.append(res[0])\n",
    "         abbreviated.append('')\n",
    "\n",
    "     if len(res) == 2:\n",
    "         full.append(res[0])\n",
    "         abbreviated.append(res[1])\n",
    "         full.append(res[1])\n",
    "         abbreviated.append('')"
   ]
  },
  {
   "cell_type": "code",
   "execution_count": 17,
   "metadata": {},
   "outputs": [],
   "source": [
    "df = pd.DataFrame({'ID': [i for i in range(len(full))],\n",
    "                'phrase': full,\n",
    "                'abbreviation': abbreviated,\n",
    "                'textbook': ['2013_Bodie.Kane.Marcus_Investments' for _ in range(len(full))],\n",
    "                'definition_or_explanations': ['' for i in range(len(full))]})"
   ]
  },
  {
   "cell_type": "code",
   "execution_count": 18,
   "metadata": {},
   "outputs": [
    {
     "output_type": "execute_result",
     "data": {
      "text/plain": [
       "        ID                phrase abbreviation  \\\n",
       "0        0       Abnormal return                \n",
       "1        1   Accounting earnings                \n",
       "2        2  Accounting practices                \n",
       "3        3      Accrued interest                \n",
       "4        4       Acid test ratio                \n",
       "...    ...                   ...          ...   \n",
       "1174  1174        Universal life                \n",
       "1175  1175      Unmanaged trusts                \n",
       "1176  1176       Unsecured bonds                \n",
       "1177  1177               Utility                \n",
       "1178  1178      Utility function                \n",
       "\n",
       "                                textbook definition_or_explanations  \n",
       "0     2013_Bodie.Kane.Marcus_Investments                             \n",
       "1     2013_Bodie.Kane.Marcus_Investments                             \n",
       "2     2013_Bodie.Kane.Marcus_Investments                             \n",
       "3     2013_Bodie.Kane.Marcus_Investments                             \n",
       "4     2013_Bodie.Kane.Marcus_Investments                             \n",
       "...                                  ...                        ...  \n",
       "1174  2013_Bodie.Kane.Marcus_Investments                             \n",
       "1175  2013_Bodie.Kane.Marcus_Investments                             \n",
       "1176  2013_Bodie.Kane.Marcus_Investments                             \n",
       "1177  2013_Bodie.Kane.Marcus_Investments                             \n",
       "1178  2013_Bodie.Kane.Marcus_Investments                             \n",
       "\n",
       "[1179 rows x 5 columns]"
      ],
      "text/html": "<div>\n<style scoped>\n    .dataframe tbody tr th:only-of-type {\n        vertical-align: middle;\n    }\n\n    .dataframe tbody tr th {\n        vertical-align: top;\n    }\n\n    .dataframe thead th {\n        text-align: right;\n    }\n</style>\n<table border=\"1\" class=\"dataframe\">\n  <thead>\n    <tr style=\"text-align: right;\">\n      <th></th>\n      <th>ID</th>\n      <th>phrase</th>\n      <th>abbreviation</th>\n      <th>textbook</th>\n      <th>definition_or_explanations</th>\n    </tr>\n  </thead>\n  <tbody>\n    <tr>\n      <th>0</th>\n      <td>0</td>\n      <td>Abnormal return</td>\n      <td></td>\n      <td>2013_Bodie.Kane.Marcus_Investments</td>\n      <td></td>\n    </tr>\n    <tr>\n      <th>1</th>\n      <td>1</td>\n      <td>Accounting earnings</td>\n      <td></td>\n      <td>2013_Bodie.Kane.Marcus_Investments</td>\n      <td></td>\n    </tr>\n    <tr>\n      <th>2</th>\n      <td>2</td>\n      <td>Accounting practices</td>\n      <td></td>\n      <td>2013_Bodie.Kane.Marcus_Investments</td>\n      <td></td>\n    </tr>\n    <tr>\n      <th>3</th>\n      <td>3</td>\n      <td>Accrued interest</td>\n      <td></td>\n      <td>2013_Bodie.Kane.Marcus_Investments</td>\n      <td></td>\n    </tr>\n    <tr>\n      <th>4</th>\n      <td>4</td>\n      <td>Acid test ratio</td>\n      <td></td>\n      <td>2013_Bodie.Kane.Marcus_Investments</td>\n      <td></td>\n    </tr>\n    <tr>\n      <th>...</th>\n      <td>...</td>\n      <td>...</td>\n      <td>...</td>\n      <td>...</td>\n      <td>...</td>\n    </tr>\n    <tr>\n      <th>1174</th>\n      <td>1174</td>\n      <td>Universal life</td>\n      <td></td>\n      <td>2013_Bodie.Kane.Marcus_Investments</td>\n      <td></td>\n    </tr>\n    <tr>\n      <th>1175</th>\n      <td>1175</td>\n      <td>Unmanaged trusts</td>\n      <td></td>\n      <td>2013_Bodie.Kane.Marcus_Investments</td>\n      <td></td>\n    </tr>\n    <tr>\n      <th>1176</th>\n      <td>1176</td>\n      <td>Unsecured bonds</td>\n      <td></td>\n      <td>2013_Bodie.Kane.Marcus_Investments</td>\n      <td></td>\n    </tr>\n    <tr>\n      <th>1177</th>\n      <td>1177</td>\n      <td>Utility</td>\n      <td></td>\n      <td>2013_Bodie.Kane.Marcus_Investments</td>\n      <td></td>\n    </tr>\n    <tr>\n      <th>1178</th>\n      <td>1178</td>\n      <td>Utility function</td>\n      <td></td>\n      <td>2013_Bodie.Kane.Marcus_Investments</td>\n      <td></td>\n    </tr>\n  </tbody>\n</table>\n<p>1179 rows × 5 columns</p>\n</div>"
     },
     "metadata": {},
     "execution_count": 18
    }
   ],
   "source": [
    "df"
   ]
  },
  {
   "cell_type": "code",
   "execution_count": 19,
   "metadata": {},
   "outputs": [],
   "source": [
    "df.to_csv('subject_index_extraction_abbreviation_separated_2013_Bodie.Kane.Marcus_Investments.csv', index=False)"
   ]
  },
  {
   "cell_type": "code",
   "execution_count": null,
   "metadata": {},
   "outputs": [],
   "source": []
  }
 ]
}