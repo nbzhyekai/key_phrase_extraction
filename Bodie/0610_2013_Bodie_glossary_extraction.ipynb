{
 "metadata": {
  "language_info": {
   "codemirror_mode": {
    "name": "ipython",
    "version": 3
   },
   "file_extension": ".py",
   "mimetype": "text/x-python",
   "name": "python",
   "nbconvert_exporter": "python",
   "pygments_lexer": "ipython3",
   "version": "3.8.3"
  },
  "orig_nbformat": 2,
  "kernelspec": {
   "name": "python3",
   "display_name": "Python 3.8.3 64-bit ('base': conda)"
  },
  "interpreter": {
   "hash": "5af03e6f6884cdcbf495aa98cbd8d63d5d0ed05506dbd026ba0a4981213ae30b"
  }
 },
 "nbformat": 4,
 "nbformat_minor": 2,
 "cells": [
  {
   "cell_type": "code",
   "execution_count": 1,
   "metadata": {},
   "outputs": [
    {
     "output_type": "stream",
     "name": "stdout",
     "text": [
      "Parsing page 1 of pdf file...\n",
      "Parsing page 2 of pdf file...\n",
      "Parsing page 3 of pdf file...\n",
      "Parsing page 4 of pdf file...\n",
      "Parsing page 5 of pdf file...\n",
      "Parsing page 6 of pdf file...\n",
      "Parsing page 7 of pdf file...\n",
      "Parsing page 8 of pdf file...\n",
      "Parsing page 9 of pdf file...\n",
      "Parsing page 10 of pdf file...\n",
      "Parsing page 11 of pdf file...\n",
      "Parsing page 12 of pdf file...\n",
      "Parsing page 13 of pdf file...\n",
      "Parsing page 14 of pdf file...\n",
      "Parsing page 15 of pdf file...\n",
      "Parsing page 16 of pdf file...\n",
      "Parsing page 17 of pdf file...\n",
      "Parsing page 18 of pdf file...\n",
      "Parsing page 19 of pdf file...\n",
      "Parsing page 20 of pdf file...\n",
      "Parsing page 21 of pdf file...\n",
      "Parsing page 22 of pdf file...\n",
      "Parsing page 23 of pdf file...\n",
      "Parsing page 24 of pdf file...\n",
      "Parsing page 25 of pdf file...\n",
      "Parsing page 26 of pdf file...\n",
      "Parsing page 27 of pdf file...\n",
      "Parsing page 28 of pdf file...\n",
      "Parsing page 29 of pdf file...\n",
      "Parsing page 30 of pdf file...\n",
      "Parsing page 31 of pdf file...\n",
      "Parsing page 32 of pdf file...\n",
      "Parsing page 33 of pdf file...\n",
      "Parsing page 34 of pdf file...\n",
      "Parsing page 35 of pdf file...\n",
      "Parsing page 36 of pdf file...\n"
     ]
    }
   ],
   "source": [
    "from io import StringIO\n",
    "from bs4 import BeautifulSoup\n",
    "from tika import parser\n",
    "import re\n",
    "\n",
    "file_path = \"../Books Index for Phrases/2013_Bodie.Kane.Marcus_Investments (McGraw-Hill, 10th Ed).pdf\"\n",
    "\n",
    "file_data = []\n",
    "_buffer = StringIO()\n",
    "data = parser.from_file(file_path, xmlContent=True)\n",
    "xhtml_data = BeautifulSoup(data['content'])\n",
    "for page, content in enumerate(xhtml_data.find_all('div', attrs={'class': 'page'})):\n",
    "    print('Parsing page {} of pdf file...'.format(page+1))\n",
    "    _buffer = StringIO()\n",
    "    _buffer.write(str(content))\n",
    "    parsed_content = parser.from_buffer(_buffer.getvalue())\n",
    "    _buffer.truncate()\n",
    "    file_data.append({'id': 'page_'+str(page+1), 'content': parsed_content['content']})"
   ]
  },
  {
   "source": [
    "## Glossary"
   ],
   "cell_type": "markdown",
   "metadata": {}
  },
  {
   "cell_type": "code",
   "execution_count": 2,
   "metadata": {},
   "outputs": [],
   "source": [
    "## Glossary ## \n",
    "## Page 2 (G-1) to Page 15 (G-14)\n",
    "glossary_pages = xhtml_data.find_all('div', attrs={'class': 'page'})[1: 15]\n"
   ]
  },
  {
   "cell_type": "code",
   "execution_count": 3,
   "metadata": {},
   "outputs": [],
   "source": [
    "glossary_page_1 = glossary_pages[0]"
   ]
  },
  {
   "cell_type": "code",
   "execution_count": 4,
   "metadata": {},
   "outputs": [
    {
     "output_type": "stream",
     "name": "stdout",
     "text": [
      "['arbitrage pricing theory', 'An asset pricing theory that is derived from a factor model, using diversification and arbitrage arguments. The theory describes the relationship between expected returns on securities, given that there are no opportunities to create wealth through risk-free arbitrage investments.']\n['ask price', 'The price at which a dealer will sell a security.']\n['asset allocation', 'Choosing among broad asset classes such as stocks versus bonds.']\n['at the money', 'When the exercise price and asset price of an option are equal.']\n['auction market', 'A market where all traders in a good meet at one place to buy or sell an asset. The NYSE is an example.']\n['average collection period, or days receivables', 'The ratio of accounts receivable to sales, or the total amount of credit extended per dollar of daily sales (average AR/sales\\xa0 3 \\xa0365).']\n['backfill bias', 'Bias in the average returns of a sample of funds induced by including past returns on funds that entered the sample only if they happened to be successful.']\n['balance sheet', 'An accounting statement of a firms finan-cial position at a specified time.']\n['bank discount yield', 'An annualized interest rate assuming simple interest, a 360-day year, and using the face value of the security rather than purchase price to compute return per dollar invested.']\n['bankers acceptance', 'A money market asset consisting of an order to a bank by a customer to pay a sum of money at a future date.']\n['baseline forecasts', 'Forecast of security returns derived from the assumption that the market is in equilibrium where current prices reflect all available information.']\n['basis', 'The difference between the futures price and the spot price.']\n['basis risk', 'Risk attributable to uncertain movements in the spread between a futures price and a spot price.']\n['behavioral finance', 'Models of financial markets that emphasize implications of psychological factors affecting investor behavior.']\n['benchmark error', 'Use of an inappropriate proxy for the true market portfolio.']\n['benchmark portfolio', 'Portfolio against which a manager is to be evaluated.']\n['beta', 'The measure of the systematic risk of a security. The tendency of a securitys returns to respond to swings in the broad market.']\n['abnormal return', 'Return on a stock beyond what would be predicted by market movements alone. Cumulative abnor-mal return (CAR) is the total abnormal return for the period surrounding an announcement or the release of information.']\n['accounting earnings', 'Earnings of a firm as reported on its income statement.']\n['acid test ratio', 'See quick ratio.']\n['active management', 'Attempts to achieve portfolio returns more than commensurate with risk, either by forecasting broad market trends or by identifying particular mispriced sectors of a market or securities in a market.']\n['active portfolio', 'In the context of the Treynor-Black model, the portfolio formed by mixing analyzed stocks of perceived nonzero alpha values. This portfolio is ultimately mixed with the passive market-index portfolio.']\n['adjusted alphas', 'Forecasts for alpha that are modulated to account for statistical imprecision in the analysts estimate.']\n['agency problem', 'Conflicts of interest among stockholders, bondholders, and managers.']\n['algorithmic trading', 'The use of computer programs to make trading decisions.']\n['alpha', 'The abnormal rate of return on a security in excess of what would be predicted by an equilibrium model like CAPM or APT.']\n['alpha transfer', 'A strategy in which you invest in positive alpha positions, hedge the systematic risk of the investment, and finally establish market exposure where you want it using passive indexes.']\n['American depository receipts (ADRs)', 'Domestically traded securities representing claims to shares of foreign stocks.']\n['American option', 'An American option can be exercised before and up to its expiration date. Compare with a   European option,  which can be exercised only on the  expiration date.']\n['announcement date', 'Date on which particular news  concerning a given company is announced to the public. Used in  event studies,  which researchers use to evaluate the economic impact of events of interest.']\n['annual percentage rate (APR)', 'Interest rate is annualized using simple rather than compound interest.']\n['anomalies', 'Patterns of returns that seem to contradict the efficient market hypothesis.']\n['appraisal ratio', 'The signal-to-noise ratio of an analysts forecasts. The ratio of alpha to residual standard deviation.']\n['arbitrage', 'A zero-risk, zero-net investment strategy that still generates profits.']\n"
     ]
    }
   ],
   "source": [
    "for p in glossary_page_1.findAll(name='p'):\n",
    "    # print(p.text)\n",
    "    text = p.text\n",
    "    text = text.replace('’', '')\n",
    "    ## remove page number\n",
    "    if re.search(r'G-\\d{1,2}', text): \n",
    "        continue\n",
    "\n",
    "    ## remove Glossary \n",
    "    if re.search(r'Glossary', text): \n",
    "        continue\n",
    "\n",
    "    ## remove Final PDF to printer\n",
    "    if re.search(r'Final PDF to printer', text): \n",
    "        continue\n",
    "    \n",
    "    text = text.replace('\\n', '').strip()\n",
    "    text = text.split('    ')[-2:]\n",
    "    \n",
    "    if text != ['']:\n",
    "        print(text)"
   ]
  },
  {
   "cell_type": "code",
   "execution_count": 5,
   "metadata": {},
   "outputs": [],
   "source": [
    "TEXT = []\n",
    "PHRASES = []\n",
    "EXPLANATION = []\n",
    "\n",
    "for page in glossary_pages:\n",
    "\n",
    "    for p in page.findAll(name='p'):\n",
    "        # print(p.text)\n",
    "        text = p.text\n",
    "        text = text.replace('’', \"'\")\n",
    "        text = text.replace('–', '-')\n",
    "        ## remove page number\n",
    "        if re.search(r'G-\\d{1,2}', text): \n",
    "            continue\n",
    "\n",
    "        ## remove Glossary \n",
    "        if re.search(r'Glossary', text): \n",
    "            continue\n",
    "\n",
    "        ## remove Final PDF to printer\n",
    "        if re.search(r'Final PDF to printer', text): \n",
    "            continue\n",
    "        \n",
    "        \n",
    "        text = text.replace('\\n', '').strip()\n",
    "        text_original = text\n",
    "        text = text.split('    ')[-2:]\n",
    "        \n",
    "        if text != ['']:\n",
    "            # print(text)\n",
    "            phrase, explanation = text\n",
    "            phrase = phrase.replace('\"', '').replace('  ', ' ').strip()\n",
    "            explanation = explanation.replace('\"', '').replace('  ', ' ').strip()\n",
    "            TEXT.append(text_original)\n",
    "            PHRASES.append(phrase)\n",
    "            EXPLANATION.append(explanation)"
   ]
  },
  {
   "cell_type": "code",
   "execution_count": 6,
   "metadata": {},
   "outputs": [],
   "source": [
    "import pandas as pd \n",
    "df = pd.DataFrame({'ID': [i for i in range(len(PHRASES))],\n",
    "            'original_glossary_extracted': TEXT,\n",
    "            'key_phrase': PHRASES,\n",
    "            'source_book': ['2013_Bodie.Kane.Marcus_Investments' for _ in range(len(PHRASES))],\n",
    "            'definition_or_explanation': EXPLANATION})"
   ]
  },
  {
   "cell_type": "code",
   "execution_count": 7,
   "metadata": {},
   "outputs": [],
   "source": [
    "# df.to_csv('glossary_extraction_2013_Bodie.Kane.Marcus_Investments.csv', index=False)"
   ]
  },
  {
   "cell_type": "code",
   "execution_count": 8,
   "metadata": {},
   "outputs": [
    {
     "output_type": "execute_result",
     "data": {
      "text/plain": [
       "   ID                        original_glossary_extracted  \\\n",
       "0   0  arbitrage pricing theory    An asset pricing t...   \n",
       "1   1  ask price    The price at which a dealer will ...   \n",
       "2   2  asset allocation    Choosing among broad asset...   \n",
       "3   3  at the money    When the exercise price and as...   \n",
       "4   4  auction market    A market where all traders i...   \n",
       "\n",
       "                 key_phrase                         source_book  \\\n",
       "0  arbitrage pricing theory  2013_Bodie.Kane.Marcus_Investments   \n",
       "1                 ask price  2013_Bodie.Kane.Marcus_Investments   \n",
       "2          asset allocation  2013_Bodie.Kane.Marcus_Investments   \n",
       "3              at the money  2013_Bodie.Kane.Marcus_Investments   \n",
       "4            auction market  2013_Bodie.Kane.Marcus_Investments   \n",
       "\n",
       "                           definition_or_explanation  \n",
       "0  An asset pricing theory that is derived from a...  \n",
       "1  The price at which a dealer will sell a security.  \n",
       "2  Choosing among broad asset classes such as sto...  \n",
       "3  When the exercise price and asset price of an ...  \n",
       "4  A market where all traders in a good meet at o...  "
      ],
      "text/html": "<div>\n<style scoped>\n    .dataframe tbody tr th:only-of-type {\n        vertical-align: middle;\n    }\n\n    .dataframe tbody tr th {\n        vertical-align: top;\n    }\n\n    .dataframe thead th {\n        text-align: right;\n    }\n</style>\n<table border=\"1\" class=\"dataframe\">\n  <thead>\n    <tr style=\"text-align: right;\">\n      <th></th>\n      <th>ID</th>\n      <th>original_glossary_extracted</th>\n      <th>key_phrase</th>\n      <th>source_book</th>\n      <th>definition_or_explanation</th>\n    </tr>\n  </thead>\n  <tbody>\n    <tr>\n      <th>0</th>\n      <td>0</td>\n      <td>arbitrage pricing theory    An asset pricing t...</td>\n      <td>arbitrage pricing theory</td>\n      <td>2013_Bodie.Kane.Marcus_Investments</td>\n      <td>An asset pricing theory that is derived from a...</td>\n    </tr>\n    <tr>\n      <th>1</th>\n      <td>1</td>\n      <td>ask price    The price at which a dealer will ...</td>\n      <td>ask price</td>\n      <td>2013_Bodie.Kane.Marcus_Investments</td>\n      <td>The price at which a dealer will sell a security.</td>\n    </tr>\n    <tr>\n      <th>2</th>\n      <td>2</td>\n      <td>asset allocation    Choosing among broad asset...</td>\n      <td>asset allocation</td>\n      <td>2013_Bodie.Kane.Marcus_Investments</td>\n      <td>Choosing among broad asset classes such as sto...</td>\n    </tr>\n    <tr>\n      <th>3</th>\n      <td>3</td>\n      <td>at the money    When the exercise price and as...</td>\n      <td>at the money</td>\n      <td>2013_Bodie.Kane.Marcus_Investments</td>\n      <td>When the exercise price and asset price of an ...</td>\n    </tr>\n    <tr>\n      <th>4</th>\n      <td>4</td>\n      <td>auction market    A market where all traders i...</td>\n      <td>auction market</td>\n      <td>2013_Bodie.Kane.Marcus_Investments</td>\n      <td>A market where all traders in a good meet at o...</td>\n    </tr>\n  </tbody>\n</table>\n</div>"
     },
     "metadata": {},
     "execution_count": 8
    }
   ],
   "source": [
    "df.head()"
   ]
  },
  {
   "source": [
    "## Reformat extraction"
   ],
   "cell_type": "markdown",
   "metadata": {}
  },
  {
   "cell_type": "code",
   "execution_count": 9,
   "metadata": {},
   "outputs": [],
   "source": [
    "import re\n",
    "def find_full_expression_and_abbreviation(text):\n",
    "    text_length = len(text)\n",
    "    match = re.search('\\(.+\\)', text) # search of bracket\n",
    "    match_1 = re.search('[A-Z]{2,8}', text) # search for Capitalization\n",
    "    match_2 = re.search('[A-Z]/[A-Z]', text) # search for Capitalization\n",
    "    if match and (match_1 or match_2):\n",
    "        content_in_bracket_length = len(match.group(0)) - 2\n",
    "    else:\n",
    "        if re.search('\\(.+', text):\n",
    "            pos = re.search('\\(.+', text).span()[0]\n",
    "            return [text[:pos-1]]\n",
    "\n",
    "        else:\n",
    "            return [text]\n",
    "\n",
    "    start, end = re.search('\\(.+\\)', text).span()\n",
    "    if content_in_bracket_length > text_length / 2:\n",
    "        \n",
    "        full_expression = text[start+1: end-1]\n",
    "        abbreviated_expression = text[: start-1]\n",
    "    else:\n",
    "        full_expression = text[: start-1]\n",
    "        abbreviated_expression = text[start+1: end-1]\n",
    "\n",
    "    return [full_expression, abbreviated_expression]"
   ]
  },
  {
   "cell_type": "code",
   "execution_count": 10,
   "metadata": {},
   "outputs": [],
   "source": [
    "full = []\n",
    "extracted_acronym_1 = []\n",
    "extracted_acronym_2 = []\n",
    "\n",
    "for phrase, definition  in zip(df['key_phrase'].values, df['definition_or_explanation'].values):\n",
    "     res = find_full_expression_and_abbreviation(phrase)\n",
    "     if len(res) == 1:\n",
    "         full.append(res[0])\n",
    "         extracted_acronym_1.append('')\n",
    "         extracted_acronym_2.append('')\n",
    "\n",
    "     if len(res) == 2:\n",
    "         full.append(res[0])\n",
    "         extracted_acronym_1.append(res[1])\n",
    "         extracted_acronym_2.append('')"
   ]
  },
  {
   "cell_type": "code",
   "execution_count": 11,
   "metadata": {},
   "outputs": [],
   "source": [
    "df['key_phrase'] = full\n",
    "df['extracted_acronym_1'] = extracted_acronym_1\n",
    "df['extracted_acronym_2'] = extracted_acronym_2"
   ]
  },
  {
   "cell_type": "code",
   "execution_count": 16,
   "metadata": {},
   "outputs": [],
   "source": [
    "def clean_extracted_key_phrase(phrase):\n",
    "    phrase = phrase.replace('-', ' ')\n",
    "    phrase = phrase.replace('/', ' ')\n",
    "    return phrase"
   ]
  },
  {
   "cell_type": "code",
   "execution_count": 17,
   "metadata": {},
   "outputs": [],
   "source": [
    "df['key_phrase'] = df['key_phrase'].apply(clean_extracted_key_phrase)"
   ]
  },
  {
   "cell_type": "code",
   "execution_count": 18,
   "metadata": {},
   "outputs": [
    {
     "output_type": "execute_result",
     "data": {
      "text/plain": [
       "Index(['ID', 'original_glossary_extracted', 'key_phrase',\n",
       "       'extracted_acronym_1', 'extracted_acronym_2',\n",
       "       'definition_or_explanation', 'source_book'],\n",
       "      dtype='object')"
      ]
     },
     "metadata": {},
     "execution_count": 18
    }
   ],
   "source": [
    "df.columns"
   ]
  },
  {
   "cell_type": "code",
   "execution_count": 19,
   "metadata": {},
   "outputs": [],
   "source": [
    "df = df[['ID', 'original_glossary_extracted', 'key_phrase', 'extracted_acronym_1',\n",
    "       'extracted_acronym_2', 'definition_or_explanation', 'source_book',\n",
    "        ]]"
   ]
  },
  {
   "cell_type": "code",
   "execution_count": 20,
   "metadata": {},
   "outputs": [],
   "source": [
    "df.to_csv('glossary_extraction_2013_Bodie.Kane.Marcus_Investments.csv', index=False)"
   ]
  },
  {
   "cell_type": "code",
   "execution_count": null,
   "metadata": {},
   "outputs": [],
   "source": []
  },
  {
   "cell_type": "code",
   "execution_count": null,
   "metadata": {},
   "outputs": [],
   "source": []
  }
 ]
}